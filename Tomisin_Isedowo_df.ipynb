{
 "cells": [
  {
   "cell_type": "code",
   "execution_count": 0,
   "metadata": {
    "application/vnd.databricks.v1+cell": {
     "cellMetadata": {
      "byteLimit": 2048000,
      "rowLimit": 10000
     },
     "inputWidgets": {},
     "nuid": "7e3ce264-9c29-49da-9c47-bf04af80b119",
     "showTitle": false,
     "title": ""
    }
   },
   "outputs": [
    {
     "output_type": "stream",
     "name": "stdout",
     "output_type": "stream",
     "text": [
      "Out[1]: [FileInfo(path='dbfs:/FileStore/tables/Occupancy_Detection_Data.csv', name='Occupancy_Detection_Data.csv', size=50968, modificationTime=1709126412000),\n FileInfo(path='dbfs:/FileStore/tables/account-model/', name='account-model/', size=0, modificationTime=0),\n FileInfo(path='dbfs:/FileStore/tables/account-models/', name='account-models/', size=0, modificationTime=0),\n FileInfo(path='dbfs:/FileStore/tables/accounts/', name='accounts/', size=0, modificationTime=0),\n FileInfo(path='dbfs:/FileStore/tables/accounts-1.zip', name='accounts-1.zip', size=5297592, modificationTime=1706712567000),\n FileInfo(path='dbfs:/FileStore/tables/accounts-2.zip', name='accounts-2.zip', size=5297592, modificationTime=1706974309000),\n FileInfo(path='dbfs:/FileStore/tables/accounts.zip', name='accounts.zip', size=5297592, modificationTime=1706712510000),\n FileInfo(path='dbfs:/FileStore/tables/activations/', name='activations/', size=0, modificationTime=0),\n FileInfo(path='dbfs:/FileStore/tables/activations-1.zip', name='activations-1.zip', size=8411369, modificationTime=1706971661000),\n FileInfo(path='dbfs:/FileStore/tables/activations-2.zip', name='activations-2.zip', size=8411369, modificationTime=1706972496000),\n FileInfo(path='dbfs:/FileStore/tables/activations.zip', name='activations.zip', size=8411369, modificationTime=1706707562000),\n FileInfo(path='dbfs:/FileStore/tables/assessment', name='assessment', size=109982, modificationTime=1714163529000),\n FileInfo(path='dbfs:/FileStore/tables/clinicaltrial_2023.csv', name='clinicaltrial_2023.csv', size=292436366, modificationTime=1714568292000),\n FileInfo(path='dbfs:/FileStore/tables/clinicaltrial_2023.zip', name='clinicaltrial_2023.zip', size=57166668, modificationTime=1709057473000),\n FileInfo(path='dbfs:/FileStore/tables/flood.csv', name='flood.csv', size=128984, modificationTime=1707924837000),\n FileInfo(path='dbfs:/FileStore/tables/iotstream/', name='iotstream/', size=0, modificationTime=0),\n FileInfo(path='dbfs:/FileStore/tables/iotstream.zip', name='iotstream.zip', size=43891, modificationTime=1708611127000),\n FileInfo(path='dbfs:/FileStore/tables/logs-1.zip', name='logs-1.zip', size=18168065, modificationTime=1706974312000),\n FileInfo(path='dbfs:/FileStore/tables/logs.zip', name='logs.zip', size=18168065, modificationTime=1706712570000),\n FileInfo(path='dbfs:/FileStore/tables/movies.csv', name='movies.csv', size=494431, modificationTime=1709731217000),\n FileInfo(path='dbfs:/FileStore/tables/myratings.csv', name='myratings.csv', size=10683, modificationTime=1709731677000),\n FileInfo(path='dbfs:/FileStore/tables/myratings_1_.csv', name='myratings_1_.csv', size=10683, modificationTime=1709731216000),\n FileInfo(path='dbfs:/FileStore/tables/pharma.csv', name='pharma.csv', size=678999, modificationTime=1714568438000),\n FileInfo(path='dbfs:/FileStore/tables/pharma.zip', name='pharma.zip', size=109982, modificationTime=1714288942000),\n FileInfo(path='dbfs:/FileStore/tables/ratings.csv', name='ratings.csv', size=2483723, modificationTime=1709731217000),\n FileInfo(path='dbfs:/FileStore/tables/steam_200k.csv', name='steam_200k.csv', size=8059447, modificationTime=1712845023000),\n FileInfo(path='dbfs:/FileStore/tables/test-1.json', name='test-1.json', size=17958, modificationTime=1706109125000),\n FileInfo(path='dbfs:/FileStore/tables/test-2.json', name='test-2.json', size=17958, modificationTime=1706663150000),\n FileInfo(path='dbfs:/FileStore/tables/test.json', name='test.json', size=17958, modificationTime=1706107950000),\n FileInfo(path='dbfs:/FileStore/tables/webpage/', name='webpage/', size=0, modificationTime=0),\n FileInfo(path='dbfs:/FileStore/tables/webpage.zip', name='webpage.zip', size=1582, modificationTime=1707312864000)]"
     ]
    }
   ],
   "source": [
    "#CHECK THE CONTENT OF THE DBFS\n",
    "dbutils.fs.ls(\"/FileStore/tables\")"
   ]
  },
  {
   "cell_type": "code",
   "execution_count": 0,
   "metadata": {
    "application/vnd.databricks.v1+cell": {
     "cellMetadata": {
      "byteLimit": 2048000,
      "rowLimit": 10000
     },
     "inputWidgets": {},
     "nuid": "98a786c1-261a-415f-a611-2961eaa3bdf2",
     "showTitle": false,
     "title": ""
    }
   },
   "outputs": [],
   "source": [
    "#declare a variable called fileroot\n",
    "fileroot = \"clinicaltrial_2023\""
   ]
  },
  {
   "cell_type": "code",
   "execution_count": 0,
   "metadata": {
    "application/vnd.databricks.v1+cell": {
     "cellMetadata": {
      "byteLimit": 2048000,
      "rowLimit": 10000
     },
     "inputWidgets": {},
     "nuid": "ec629723-85d1-4948-ab6f-9d3940f73f6e",
     "showTitle": false,
     "title": ""
    }
   },
   "outputs": [],
   "source": [
    "import os\n",
    "os.environ['fileroot'] = fileroot"
   ]
  },
  {
   "cell_type": "code",
   "execution_count": 0,
   "metadata": {
    "application/vnd.databricks.v1+cell": {
     "cellMetadata": {
      "byteLimit": 2048000,
      "rowLimit": 10000
     },
     "inputWidgets": {},
     "nuid": "a0a1dacb-cc10-4cb9-b0f3-e51c286c4a59",
     "showTitle": false,
     "title": ""
    }
   },
   "outputs": [],
   "source": [
    "#Reads the CSV file into an RDD\n",
    "myRDD1 = sc.textFile(\"/FileStore/tables/\"+fileroot+\".csv\")"
   ]
  },
  {
   "cell_type": "code",
   "execution_count": 0,
   "metadata": {
    "application/vnd.databricks.v1+cell": {
     "cellMetadata": {
      "byteLimit": 2048000,
      "rowLimit": 10000
     },
     "inputWidgets": {},
     "nuid": "1c5d91f6-abb6-4847-941c-df25b5fa0e67",
     "showTitle": false,
     "title": ""
    }
   },
   "outputs": [],
   "source": [
    "#THIS COMMAND ASSISTS IN DEFINING A FUNCTION DEDICATED TO CLEANING AND TRANSFORMING INDIVIDUAL ROWS WITHIN THE CLINICALTRIAL DATASET\n",
    "def clean_and_transform(row):\n",
    "    #THIS AIDS IN ELIMINATING SURPLUS TRAILING COMMAS AND UNNECESARY DOUBLE QUOTES THROUGH THE UTILIZATION OF THE STRIP METHOD.\n",
    "    cleaned_row = row.strip(\",\").strip('\"')\n",
    "    #THIS COMMAND FACILITATES THE SPLITTING OF THE ROW BY THE SPECIFIED DELIMITER, WHICH IN THIS CASE IS THE TAB ('\\t').\n",
    "    cleaned_row = cleaned_row.split('\\t')\n",
    "\n",
    "    return cleaned_row\n",
    "\n",
    "# RDD containing rows with varying column lengths\n",
    " \n",
    "def fill_empty_columns(row):\n",
    "    # Check if the row has less than 14 columns\n",
    "    if len(row) < 14:\n",
    "        # Fill up the remaining columns with empty strings\n",
    "        row += [''] * (14 - len(row))\n",
    "    return row"
   ]
  },
  {
   "cell_type": "code",
   "execution_count": 0,
   "metadata": {
    "application/vnd.databricks.v1+cell": {
     "cellMetadata": {
      "byteLimit": 2048000,
      "rowLimit": 10000
     },
     "inputWidgets": {},
     "nuid": "ef74cefa-0f86-465a-bc38-b7d20fee0a4b",
     "showTitle": false,
     "title": ""
    }
   },
   "outputs": [
    {
     "output_type": "stream",
     "name": "stdout",
     "output_type": "stream",
     "text": [
      "Out[6]: [['NCT03630471',\n  'Effectiveness of a Problem-solving Intervention for Common Adolescent Mental Health Problems in India',\n  'PRIDE',\n  'COMPLETED',\n  'Mental Health Issue (E.G.\", Depression, Psychosis, Personality Disorder,\" Substance Abuse)',\n  \"BEHAVIORAL: PRIDE 'Step 1' problem-solving intervention|BEHAVIORAL: Enhanced usual care\",\n  'Sangath',\n  'Harvard Medical School (HMS and HSDM)|London School of Hygiene and Tropical Medicine',\n  '250.0',\n  'OTHER',\n  'INTERVENTIONAL',\n  'Allocation: RANDOMIZED|Intervention Model: PARALLEL|Masking: DOUBLE (INVESTIGATOR\",\" OUTCOMES_ASSESSOR)|Primary Purpose: TREATMENT',\n  '2018-08-20',\n  '2019-02-28'],\n ['NCT05992571',\n  'Oral Ketone Monoester Supplementation and Resting-state Brain Connectivity',\n  '',\n  'RECRUITING',\n  'Cerebrovascular Function|Cognition',\n  'OTHER: Placebo|DIETARY_SUPPLEMENT: β-OHB',\n  'McMaster University',\n  'Alzheimer\\'s Society of Brant\", Haldimand Norfolk,\" Hamilton Halton',\n  '30.0',\n  'OTHER',\n  'INTERVENTIONAL',\n  'Allocation: RANDOMIZED|Intervention Model: CROSSOVER|Masking: TRIPLE (PARTICIPANT\", INVESTIGATOR,\" OUTCOMES_ASSESSOR)|Primary Purpose: BASIC_SCIENCE',\n  '2023-10-25',\n  '2024-08'],\n ['NCT00237471',\n  'Impact of Tight Glycaemic Control in Acute Myocardial Infarction',\n  '',\n  'TERMINATED',\n  'Myocardial Infarct|Hyperglycemia',\n  'DRUG: Insulin (tight blood glucose control)',\n  'Melbourne Health',\n  'National Health and Medical Research Council\",\" Australia|Bristol-Myers Squibb',\n  '40.0',\n  'OTHER',\n  'INTERVENTIONAL',\n  'Allocation: RANDOMIZED|Intervention Model: PARALLEL|Masking: NONE|Primary Purpose: TREATMENT',\n  '2005-10',\n  '2006-05'],\n ['NCT03820271',\n  'New Prognostic Predictive Models of Mortality of Decompensated Cirrhotic Patients Waiting for Liver Transplantation',\n  'SUPERMELD',\n  'RECRUITING',\n  'Decompensated Cirrhosis|Liver Transplantation',\n  'OTHER: SuperMELD',\n  'Assistance Publique - Hôpitaux de Paris',\n  '',\n  '500.0',\n  'OTHER',\n  'INTERVENTIONAL',\n  'Allocation: NA|Intervention Model: SINGLE_GROUP|Masking: NONE|Primary Purpose: OTHER',\n  '2020-10-01',\n  '2023-10-01'],\n ['NCT06229171',\n  'InTake Care: Development and Validation of an Innovative\",\" Personalized Digital Health Solution for Medication Adherence Support in Cardiovascular Prevention',\n  'InTakeCare',\n  'NOT_YET_RECRUITING',\n  'Hypertension|Treatment Adherence and Compliance|Digital Health',\n  'OTHER: adherence support system based on a vocal assistant',\n  'Istituto Auxologico Italiano',\n  'Istituti Clinici Scientifici Maugeri SpA|Politecnico di Milano',\n  '206.0',\n  'OTHER',\n  'INTERVENTIONAL',\n  'Allocation: RANDOMIZED|Intervention Model: PARALLEL|Masking: NONE|Primary Purpose: OTHER',\n  '2024-10-01',\n  '2026-04-01']]"
     ]
    }
   ],
   "source": [
    "#THIS COMMAND MAP THE CLEAN_AND _TRANSFORM FUNCTION TO myRDDS.\n",
    "myRDD2 = myRDD1.map(clean_and_transform) \\\n",
    "        .map(fill_empty_columns)\\\n",
    "        .zipWithIndex().filter(lambda x: x[1] > 0).map(lambda x: x[0])\n",
    "\n",
    "myRDD2.take(5)"
   ]
  },
  {
   "cell_type": "code",
   "execution_count": 0,
   "metadata": {
    "application/vnd.databricks.v1+cell": {
     "cellMetadata": {
      "byteLimit": 2048000,
      "rowLimit": 10000
     },
     "inputWidgets": {},
     "nuid": "a5259f27-94c6-4c55-bef1-9af32e1d80e8",
     "showTitle": false,
     "title": ""
    }
   },
   "outputs": [],
   "source": [
    "# Function to replace empty strings with None\n",
    "def replace_empty_with_null(line):\n",
    "    return [None if field == \"\" else field for field in line]\n",
    " \n",
    "# Replace empty fields with null values\n",
    "replace_with_null = myRDD2.map(replace_empty_with_null)"
   ]
  },
  {
   "cell_type": "code",
   "execution_count": 0,
   "metadata": {
    "application/vnd.databricks.v1+cell": {
     "cellMetadata": {
      "byteLimit": 2048000,
      "rowLimit": 10000
     },
     "inputWidgets": {},
     "nuid": "ba6704d6-b031-4e4d-b502-f56cb7fbbe37",
     "showTitle": false,
     "title": ""
    }
   },
   "outputs": [
    {
     "output_type": "stream",
     "name": "stdout",
     "output_type": "stream",
     "text": [
      "Out[8]: [['NCT03630471',\n  'Effectiveness of a Problem-solving Intervention for Common Adolescent Mental Health Problems in India',\n  'PRIDE',\n  'COMPLETED',\n  'Mental Health Issue (E.G.\", Depression, Psychosis, Personality Disorder,\" Substance Abuse)',\n  \"BEHAVIORAL: PRIDE 'Step 1' problem-solving intervention|BEHAVIORAL: Enhanced usual care\",\n  'Sangath',\n  'Harvard Medical School (HMS and HSDM)|London School of Hygiene and Tropical Medicine',\n  '250.0',\n  'OTHER',\n  'INTERVENTIONAL',\n  'Allocation: RANDOMIZED|Intervention Model: PARALLEL|Masking: DOUBLE (INVESTIGATOR\",\" OUTCOMES_ASSESSOR)|Primary Purpose: TREATMENT',\n  '2018-08-20',\n  '2019-02-28'],\n ['NCT05992571',\n  'Oral Ketone Monoester Supplementation and Resting-state Brain Connectivity',\n  None,\n  'RECRUITING',\n  'Cerebrovascular Function|Cognition',\n  'OTHER: Placebo|DIETARY_SUPPLEMENT: β-OHB',\n  'McMaster University',\n  'Alzheimer\\'s Society of Brant\", Haldimand Norfolk,\" Hamilton Halton',\n  '30.0',\n  'OTHER',\n  'INTERVENTIONAL',\n  'Allocation: RANDOMIZED|Intervention Model: CROSSOVER|Masking: TRIPLE (PARTICIPANT\", INVESTIGATOR,\" OUTCOMES_ASSESSOR)|Primary Purpose: BASIC_SCIENCE',\n  '2023-10-25',\n  '2024-08-01'],\n ['NCT00237471',\n  'Impact of Tight Glycaemic Control in Acute Myocardial Infarction',\n  None,\n  'TERMINATED',\n  'Myocardial Infarct|Hyperglycemia',\n  'DRUG: Insulin (tight blood glucose control)',\n  'Melbourne Health',\n  'National Health and Medical Research Council\",\" Australia|Bristol-Myers Squibb',\n  '40.0',\n  'OTHER',\n  'INTERVENTIONAL',\n  'Allocation: RANDOMIZED|Intervention Model: PARALLEL|Masking: NONE|Primary Purpose: TREATMENT',\n  '2005-10-01',\n  '2006-05-01'],\n ['NCT03820271',\n  'New Prognostic Predictive Models of Mortality of Decompensated Cirrhotic Patients Waiting for Liver Transplantation',\n  'SUPERMELD',\n  'RECRUITING',\n  'Decompensated Cirrhosis|Liver Transplantation',\n  'OTHER: SuperMELD',\n  'Assistance Publique - Hôpitaux de Paris',\n  None,\n  '500.0',\n  'OTHER',\n  'INTERVENTIONAL',\n  'Allocation: NA|Intervention Model: SINGLE_GROUP|Masking: NONE|Primary Purpose: OTHER',\n  '2020-10-01',\n  '2023-10-01'],\n ['NCT06229171',\n  'InTake Care: Development and Validation of an Innovative\",\" Personalized Digital Health Solution for Medication Adherence Support in Cardiovascular Prevention',\n  'InTakeCare',\n  'NOT_YET_RECRUITING',\n  'Hypertension|Treatment Adherence and Compliance|Digital Health',\n  'OTHER: adherence support system based on a vocal assistant',\n  'Istituto Auxologico Italiano',\n  'Istituti Clinici Scientifici Maugeri SpA|Politecnico di Milano',\n  '206.0',\n  'OTHER',\n  'INTERVENTIONAL',\n  'Allocation: RANDOMIZED|Intervention Model: PARALLEL|Masking: NONE|Primary Purpose: OTHER',\n  '2024-10-01',\n  '2026-04-01']]"
     ]
    }
   ],
   "source": [
    "def clean_date(date):\n",
    "    if len(date) < 8:\n",
    "        date = date + \"-01\"\n",
    "    return date\n",
    " \n",
    "def fill_empty_date(date, default_value):\n",
    "    return default_value if not date else date\n",
    " \n",
    "# Select the column indices\n",
    "column_indices = [12, 13]\n",
    " \n",
    "# Clean up the start and completion dates\n",
    "default_date = \"2024-01-01\"\n",
    " \n",
    "# First RDD: Fill up empty date columns\n",
    "myRDD3 = replace_with_null.map(lambda row: [\n",
    "    fill_empty_date(row[i], default_date) if i in column_indices else row[i] for i in range(len(row))\n",
    "])\n",
    " \n",
    "# Second RDD: Format the date columns\n",
    "myRDD4 = myRDD3.map(lambda row: [\n",
    "    clean_date(row[i]) if i in column_indices else row[i] for i in range(len(row))\n",
    "])\n",
    " \n",
    "myRDD4.take(5)"
   ]
  },
  {
   "cell_type": "code",
   "execution_count": 0,
   "metadata": {
    "application/vnd.databricks.v1+cell": {
     "cellMetadata": {
      "byteLimit": 2048000,
      "rowLimit": 10000
     },
     "inputWidgets": {},
     "nuid": "d44ff29a-2b1e-4081-90c8-a3b948e2c2af",
     "showTitle": false,
     "title": ""
    }
   },
   "outputs": [
    {
     "output_type": "stream",
     "name": "stdout",
     "output_type": "stream",
     "text": [
      "+-----------+--------------------+----------+------------------+--------------------+--------------------+--------------------+--------------------+----------+-----------+--------------+--------------------+----------+----------+\n|         Id|         Study Title|   Acronym|            Status|          Conditions|       Interventions|             Sponsor|       Collaborators|Enrollment|Funder Type|          Type|        Study Design|     Start|Completion|\n+-----------+--------------------+----------+------------------+--------------------+--------------------+--------------------+--------------------+----------+-----------+--------------+--------------------+----------+----------+\n|NCT03630471|Effectiveness of ...|     PRIDE|         COMPLETED|Mental Health Iss...|BEHAVIORAL: PRIDE...|             Sangath|Harvard Medical S...|     250.0|      OTHER|INTERVENTIONAL|Allocation: RANDO...|2018-08-20|2019-02-28|\n|NCT05992571|Oral Ketone Monoe...|      null|        RECRUITING|Cerebrovascular F...|OTHER: Placebo|DI...| McMaster University|Alzheimer's Socie...|      30.0|      OTHER|INTERVENTIONAL|Allocation: RANDO...|2023-10-25|2024-08-01|\n|NCT00237471|Impact of Tight G...|      null|        TERMINATED|Myocardial Infarc...|DRUG: Insulin (ti...|    Melbourne Health|National Health a...|      40.0|      OTHER|INTERVENTIONAL|Allocation: RANDO...|2005-10-01|2006-05-01|\n|NCT03820271|New Prognostic Pr...| SUPERMELD|        RECRUITING|Decompensated Cir...|    OTHER: SuperMELD|Assistance Publiq...|                null|     500.0|      OTHER|INTERVENTIONAL|Allocation: NA|In...|2020-10-01|2023-10-01|\n|NCT06229171|InTake Care: Deve...|InTakeCare|NOT_YET_RECRUITING|Hypertension|Trea...|OTHER: adherence ...|Istituto Auxologi...|Istituti Clinici ...|     206.0|      OTHER|INTERVENTIONAL|Allocation: RANDO...|2024-10-01|2026-04-01|\n|NCT02945371|Tailored Inhibito...|       REV|         COMPLETED|Smoking|Alcohol D...|BEHAVIORAL: Perso...|University of Oregon|                null|     103.0|      OTHER|INTERVENTIONAL|Allocation: RANDO...|2014-09-01|2016-05-01|\n|NCT01055171|Neuromodulation o...|      null|         COMPLETED|Alcohol Dependenc...|DRUG: Propranolol...|Medical Universit...|National Institut...|      44.0|      OTHER|INTERVENTIONAL|Allocation: RANDO...|2010-01-01|2012-08-01|\n|NCT01125371|Computerized Brie...|      null|         COMPLETED|Alcohol; Harmful ...|BEHAVIORAL: Compu...|Johns Hopkins Uni...|National Institut...|     439.0|      OTHER|INTERVENTIONAL|Allocation: RANDO...|2011-10-01|2016-06-07|\n|NCT02554071|Manitoba Pharmaci...|      null|         COMPLETED|   Smoking Cessation|OTHER: Pharmacist...|University of Man...|Govenment of Mani...|     119.0|      OTHER|INTERVENTIONAL|Allocation: NA|In...|2014-01-01|2014-11-01|\n|NCT01772771|Molecular Testing...|      null|        RECRUITING|Glioma|Hematopoie...|PROCEDURE: Biospe...|M.D. Anderson Can...|National Cancer I...|   12000.0|      OTHER| OBSERVATIONAL|Observational Mod...|2012-03-01|2033-03-01|\n+-----------+--------------------+----------+------------------+--------------------+--------------------+--------------------+--------------------+----------+-----------+--------------+--------------------+----------+----------+\nonly showing top 10 rows\n\n"
     ]
    }
   ],
   "source": [
    "#Using Dataframe\n",
    "from pyspark.sql.types import*\n",
    "\n",
    "mySchema = StructType([\n",
    "           StructField(\"Id\", StringType()),\n",
    "           StructField(\"Study Title\", StringType()),\n",
    "           StructField(\"Acronym\", StringType()),\n",
    "           StructField(\"Status\", StringType()),\n",
    "           StructField(\"Conditions\", StringType()),\n",
    "           StructField(\"Interventions\", StringType()),\n",
    "           StructField(\"Sponsor\", StringType()),\n",
    "           StructField(\"Collaborators\", StringType()),\n",
    "           StructField(\"Enrollment\", StringType()),\n",
    "           StructField(\"Funder Type\", StringType()),\n",
    "           StructField(\"Type\", StringType()),\n",
    "           StructField(\"Study Design\", StringType()),\n",
    "           StructField(\"Start\", StringType()),\n",
    "            StructField(\"Completion\", StringType()),\n",
    "])\n",
    "\n",
    "\n",
    "Clinicaltrial_df =spark.createDataFrame(myRDD4, mySchema)\n",
    "\n",
    "Clinicaltrial_df.show(10)"
   ]
  },
  {
   "cell_type": "code",
   "execution_count": 0,
   "metadata": {
    "application/vnd.databricks.v1+cell": {
     "cellMetadata": {
      "byteLimit": 2048000,
      "rowLimit": 10000
     },
     "inputWidgets": {},
     "nuid": "ccd5346e-273e-43ee-b8ae-ccfa39e3958f",
     "showTitle": false,
     "title": ""
    }
   },
   "outputs": [
    {
     "output_type": "stream",
     "name": "stdout",
     "output_type": "stream",
     "text": [
      "Number of Studies:  483422\n"
     ]
    }
   ],
   "source": [
    "collect_Id_rdd = Clinicaltrial_df.select(\"Id\")\n",
    " \n",
    "# Count the number of distinct study titles\n",
    "distinct_study_count = collect_Id_rdd.distinct().count()\n",
    " \n",
    "# Print result\n",
    "print(\"Number of Studies: \", distinct_study_count)"
   ]
  },
  {
   "cell_type": "code",
   "execution_count": 0,
   "metadata": {
    "application/vnd.databricks.v1+cell": {
     "cellMetadata": {
      "byteLimit": 2048000,
      "rowLimit": 10000
     },
     "inputWidgets": {},
     "nuid": "eb59cf11-74c4-4a65-9af9-bf09eb191799",
     "showTitle": false,
     "title": ""
    }
   },
   "outputs": [
    {
     "output_type": "stream",
     "name": "stdout",
     "output_type": "stream",
     "text": [
      "+---------------+------+\n|           Type| count|\n+---------------+------+\n| INTERVENTIONAL|371382|\n|  OBSERVATIONAL|110221|\n|EXPANDED_ACCESS|   928|\n|           null|   891|\n+---------------+------+\n\n"
     ]
    }
   ],
   "source": [
    "#Question 2\n",
    "from pyspark.sql.functions import col\n",
    " \n",
    "type_counts_df = Clinicaltrial_df.select(col(\"Type\").alias(\"Type\")).groupBy(\"Type\").count()\n",
    " \n",
    "# Sorting the result by frequency in descending order\n",
    "sorted_frequencies_df = type_counts_df.orderBy(\"count\", ascending=False)\n",
    " \n",
    "sorted_frequencies_df.show()\n"
   ]
  },
  {
   "cell_type": "code",
   "execution_count": 0,
   "metadata": {
    "application/vnd.databricks.v1+cell": {
     "cellMetadata": {
      "byteLimit": 2048000,
      "rowLimit": 10000
     },
     "inputWidgets": {},
     "nuid": "126dbc05-eece-43f1-8fd4-d4ed8439a89a",
     "showTitle": false,
     "title": ""
    }
   },
   "outputs": [
    {
     "output_type": "stream",
     "name": "stdout",
     "output_type": "stream",
     "text": [
      "+-------------+-----+\n|   Conditions|count|\n+-------------+-----+\n|      Healthy| 9731|\n|Breast Cancer| 7502|\n|      Obesity| 6549|\n|       Stroke| 4071|\n| Hypertension| 4020|\n+-------------+-----+\n\n"
     ]
    }
   ],
   "source": [
    "#Question 3\n",
    "from pyspark.sql.functions import split, explode, col, lit\n",
    " \n",
    "# Split the string by '|' delimiter if it's not empty\n",
    "# Then, explode the resulting array into separate rows\n",
    "# Finally, count the occurrences of each element\n",
    "conditions_df = Clinicaltrial_df.select(Clinicaltrial_df['Id'], Clinicaltrial_df['Conditions']) \\\n",
    "                             .filter(col('Conditions').isNotNull() & (col('Conditions') != '')) \\\n",
    "                             .withColumn('Conditions', split(col('Conditions'), '\\|')) \\\n",
    "                             .withColumn('Conditions', explode(col('Conditions'))) \\\n",
    "                             .groupBy('Conditions').count()\n",
    " \n",
    "# Sort the DataFrame by count in descending order\n",
    "sorted_df = conditions_df.orderBy(col('count').desc())\n",
    " \n",
    "# Take the top 5 rows from the sorted DataFrame\n",
    "top_5_rows = sorted_df.limit(5)\n",
    " \n",
    "# Show the top 5 elements\n",
    "top_5_rows.show()"
   ]
  },
  {
   "cell_type": "code",
   "execution_count": 0,
   "metadata": {
    "application/vnd.databricks.v1+cell": {
     "cellMetadata": {
      "byteLimit": 2048000,
      "rowLimit": 10000
     },
     "inputWidgets": {},
     "nuid": "9e11d2b4-2416-41e6-999b-a64457d6e67f",
     "showTitle": false,
     "title": ""
    }
   },
   "outputs": [
    {
     "output_type": "stream",
     "name": "stdout",
     "output_type": "stream",
     "text": [
      "+--------------------+-----+\n|             Sponsor|count|\n+--------------------+-----+\n|National Cancer I...| 3410|\n|   Assiut University| 3335|\n|    Cairo University| 3023|\n|Assistance Publiq...| 2951|\n|         Mayo Clinic| 2766|\n|M.D. Anderson Can...| 2702|\n|Novartis Pharmace...| 2393|\n|National Institut...| 2340|\n|Massachusetts Gen...| 2263|\n|National Taiwan U...| 2181|\n+--------------------+-----+\n\n"
     ]
    }
   ],
   "source": [
    "pharma_data = spark.read.csv(\"/FileStore/tables/pharma.csv\", header=False)\n",
    " \n",
    "# Rename the column\n",
    "pharma_df = pharma_data.withColumnRenamed(\"_c1\", \"Parent_company\")\n",
    " \n",
    "# Left Anti Join to find entries that exist in Clinical Trial Sponsor but not in Pharma Companies\n",
    "filtered_df = Clinicaltrial_df.join(pharma_df, Clinicaltrial_df.Sponsor == pharma_df.Parent_company, \"left_anti\")\n",
    " \n",
    "# Count occurrences again after filtering\n",
    "result_df = filtered_df.groupBy(\"Sponsor\").count()\n",
    " \n",
    "# Sort the result in descending order of counts\n",
    "sorted_result_df = result_df.orderBy(\"count\", ascending=False)\n",
    " \n",
    "# Take the top 10 records\n",
    "top_10_sponsors = sorted_result_df.limit(10)\n",
    " \n",
    "top_10_sponsors.show()\n",
    " "
   ]
  },
  {
   "cell_type": "code",
   "execution_count": 0,
   "metadata": {
    "application/vnd.databricks.v1+cell": {
     "cellMetadata": {
      "byteLimit": 2048000,
      "rowLimit": 10000
     },
     "inputWidgets": {},
     "nuid": "129a28ae-b5d1-4f21-ac45-8573fcef617f",
     "showTitle": false,
     "title": ""
    }
   },
   "outputs": [
    {
     "output_type": "display_data",
     "data": {
      "image/png": "[encoded data removed]"
     },
     "metadata": {
      "application/vnd.databricks.v1+output": {
       "addedWidgets": {},
       "arguments": {},
       "data": "data:image/png;base64,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\n",
       "datasetInfos": [],
       "metadata": {},
       "removedWidgets": [],
       "type": "image"
      }
     },
     "output_type": "display_data"
    },
    {
     "output_type": "stream",
     "name": "stdout",
     "output_type": "stream",
     "text": [
      "Month\t\t\tCompleted Studies\nJanuary                 1494\nFebruary                1272\nMarch                   1552\nApril                   1324\nMay                     1415\nJune                    1619\nJuly                    1360\nAugust                  1230\nSeptember               1152\nOctober                 1058\nNovember                909\nDecember                1082\n"
     ]
    }
   ],
   "source": [
    "#Q5 IMPLEMEMTATION IN RDD\n",
    "import matplotlib.pyplot as plt\n",
    "from pyspark.sql.functions import month, year, to_date\n",
    "import calendar\n",
    " \n",
    "# Define completion date and status filters\n",
    "completion_year = 2023\n",
    "completion_status = 'COMPLETED'\n",
    " \n",
    "# Filter the DataFrame to include only rows with the correct number of fields\n",
    "filtered_df = Clinicaltrial_df.filter(Clinicaltrial_df['Status'] == completion_status) \\\n",
    "                          .filter(year('Completion') == completion_year)\n",
    "# Convert the completion column to a date format\n",
    "formatted_df = filtered_df.withColumn('Completion', to_date('Completion', 'yyyy-MM-dd'))\n",
    " \n",
    "# Group by month and count completed studies for each month\n",
    "completed_studies_by_month = formatted_df.groupBy(month('Completion').alias('month')) \\\n",
    "                                         .count() \\\n",
    "                                         .orderBy('month') \\\n",
    "                                         .collect()\n",
    " \n",
    "# Convert the result to a dictionary\n",
    "completed_studies_by_month_dict = {row['month']: row['count'] for row in completed_studies_by_month}\n",
    " \n",
    "# Plotting\n",
    "months = range(1, 13)\n",
    "study_counts = [completed_studies_by_month_dict.get(month, 0) for month in months]\n",
    " \n",
    "# Convert month numbers to month names\n",
    "month_names = [calendar.month_name[month] for month in months]\n",
    " \n",
    "plt.figure(figsize=(12, 6))\n",
    "plt.bar(month_names, study_counts, color='skyblue')\n",
    "plt.title('Number of Completed Studies for Each Month in 2023')\n",
    "plt.xlabel('Month')\n",
    "plt.ylabel('Number of Completed Studies')\n",
    "plt.xticks(rotation=45, ha='right')  # Rotate the x-axis labels for better readability\n",
    "plt.grid(axis='y', linestyle='--', alpha=0.7)\n",
    "plt.tight_layout()\n",
    "plt.show()\n",
    " \n",
    "# Table of values\n",
    "print(\"Month\\t\\t\\tCompleted Studies\")\n",
    "for month in range(1, 13):\n",
    "    count = completed_studies_by_month_dict.get(month, 0)\n",
    "    print(f\"{calendar.month_name[month]:<24}{count}\")"
   ]
  }
 ],
 "metadata": {
  "application/vnd.databricks.v1+notebook": {
   "dashboards": [],
   "language": "python",
   "notebookMetadata": {
    "pythonIndentUnit": 4
   },
   "notebookName": "Tomisin_Isedowo_df",
   "widgets": {}
  }
 },
 "nbformat": 4,
 "nbformat_minor": 0
}
